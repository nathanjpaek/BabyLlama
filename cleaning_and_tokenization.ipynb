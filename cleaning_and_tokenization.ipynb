{
 "cells": [
  {
   "cell_type": "markdown",
   "metadata": {},
   "source": [
    "# Basic data cleaning and tokenization"
   ]
  },
  {
   "cell_type": "markdown",
   "metadata": {},
   "source": [
    "## Cleaning\n",
    "\n",
    "Some simple, regex-based cleaning is performed on train and dev datasets, e.g. to remove HTML tags from Wikipedia articles, non-verbal cues from subtitles, or even to correct I’s that were incorrectly recognized as l’s in OCR’ed uppercase text."
   ]
  },
  {
   "cell_type": "code",
   "execution_count": 3,
   "metadata": {},
   "outputs": [],
   "source": [
    "from pathlib import Path\n",
    "from mrclean import *"
   ]
  },
  {
   "cell_type": "code",
   "execution_count": 9,
   "metadata": {},
   "outputs": [],
   "source": [
    "DATA_ROOT = Path(\"./\")\n",
    "SEQ_LENGTH = 128 # this is a legacy parameter, it does not affect cleaning\n",
    "DATA_SPLITS = ['babylm_10M', 'babylm_dev']\n",
    "\n",
    "CLEANUP_FUNCTIONS = {\n",
    "    'aochildes': cleanup_aochildes,\n",
    "     # 'childes': cleanup_aochildes,\n",
    "    'bnc_spoken': cleanup_bnc_spoken,\n",
    "    'cbt': cleanup_cbt,\n",
    "    'children_stories': cleanup_children_stories,\n",
    "    'gutenberg': cleanup_gutenberg,\n",
    "    'open_subtitles': cleanup_open_subtitles,\n",
    "    'qed': cleanup_qed,\n",
    "    'simple_wiki': cleanup_simple_wikipedia,\n",
    "    'switchboard': cleanup_switchboard,\n",
    "    'wikipedia': cleanup_wikipedia,\n",
    "}\n"
   ]
  },
  {
   "cell_type": "code",
   "execution_count": 11,
   "metadata": {},
   "outputs": [
    {
     "name": "stdout",
     "output_type": "stream",
     "text": [
      "🧹 Cleaned 'open_subtitles.train' (size 10806305 -> 10804026) in babylm_10M\n",
      "🧹 Cleaned 'bnc_spoken.train' (size 4883879 -> 4851676) in babylm_10M\n",
      "🧹 Cleaned 'gutenberg.train' (size 13910986 -> 13910986) in babylm_10M\n",
      "🧹 Cleaned 'aochildes.train' (size 1900547 -> 1820547) in babylm_10M\n",
      "🧹 Cleaned 'simple_wiki.train' (size 8411630 -> 8387062) in babylm_10M\n",
      "🧹 Cleaned 'switchboard.train' (size 719322 -> 719322) in babylm_10M\n",
      "🧹 Cleaned 'simple_wiki.dev' (size 8149513 -> 8128239) in babylm_dev\n",
      "🧹 Cleaned 'switchboard.dev' (size 724013 -> 724013) in babylm_dev\n",
      "🧹 Cleaned 'open_subtitles.dev' (size 11016133 -> 11014854) in babylm_dev\n",
      "🧹 Cleaned 'gutenberg.dev' (size 15490473 -> 15490473) in babylm_dev\n",
      "🧹 Cleaned 'aochildes.dev' (size 1777198 -> 1707198) in babylm_dev\n",
      "🧹 Cleaned 'bnc_spoken.dev' (size 6538139 -> 6503778) in babylm_dev\n"
     ]
    }
   ],
   "source": [
    "for split in DATA_SPLITS:\n",
    "    INPUT_DIR = DATA_ROOT / 'data' / split\n",
    "    OUTPUT_DIR = DATA_ROOT / 'data' / f'{split}_clean'\n",
    "    \n",
    "    OUTPUT_DIR.mkdir(exist_ok=True)\n",
    "\n",
    "    train_files = [f for f in INPUT_DIR.iterdir() if f.is_file() and f.suffix in ['.train', '.dev']]\n",
    "    \n",
    "    for file in train_files:\n",
    "        text = file.read_text()\n",
    "        cleaned_text = CLEANUP_FUNCTIONS[file.stem](text, SEQ_LENGTH)\n",
    "        (OUTPUT_DIR / file.name).write_text(cleaned_text)\n",
    "        print(f\"🧹 Cleaned '{file.name}' (size {len(text)} -> {len(cleaned_text)}) in {split}\")\n"
   ]
  },
  {
   "cell_type": "markdown",
   "metadata": {},
   "source": [
    "## Training a tokenizer"
   ]
  },
  {
   "cell_type": "code",
   "execution_count": 12,
   "metadata": {},
   "outputs": [],
   "source": [
    "from pathlib import Path\n",
    "from tokenizers import (Tokenizer, decoders, models, pre_tokenizers,\n",
    "                        processors, trainers)\n",
    "from tokenizers.normalizers import NFKC"
   ]
  },
  {
   "cell_type": "code",
   "execution_count": 13,
   "metadata": {},
   "outputs": [
    {
     "name": "stdout",
     "output_type": "stream",
     "text": [
      "6\n"
     ]
    }
   ],
   "source": [
    "# We train the tokenizer on the train data only\n",
    "data_dir = Path(\"./data/babylm_10M_clean/\")\n",
    "\n",
    "paths = [str(f) for f in data_dir.glob(\"*\") if f.is_file() and not f.name.endswith(\".DS_Store\") and f.suffix in [\".train\"]]\n",
    "\n",
    "# paths\n",
    "print(len(paths))\n",
    "assert len(paths) > 0, 'No data files found'"
   ]
  },
  {
   "cell_type": "code",
   "execution_count": 14,
   "metadata": {},
   "outputs": [],
   "source": [
    "tokenizer = Tokenizer(models.BPE())\n",
    "\n",
    "tokenizer.pre_tokenizer = pre_tokenizers.ByteLevel(add_prefix_space=True)\n",
    "tokenizer.decoder = decoders.ByteLevel()\n",
    "tokenizer.post_processor = processors.ByteLevel(trim_offsets=True)\n",
    "tokenizer.normalizer = NFKC()"
   ]
  },
  {
   "cell_type": "code",
   "execution_count": 15,
   "metadata": {},
   "outputs": [
    {
     "name": "stdout",
     "output_type": "stream",
     "text": [
      "\n",
      "\n",
      "\n"
     ]
    }
   ],
   "source": [
    "trainer = trainers.BpeTrainer(vocab_size=16000, min_frequency=2, special_tokens=[\"<pad>\", \"<s>\", \"</s>\"])\n",
    "tokenizer.train(paths, trainer)"
   ]
  },
  {
   "cell_type": "code",
   "execution_count": 17,
   "metadata": {},
   "outputs": [],
   "source": [
    "tokenizer_path =  DATA_ROOT / \"models/gpt-clean-16000.json\"\n",
    "tokenizer.save(str(tokenizer_path), pretty=True)"
   ]
  },
  {
   "cell_type": "markdown",
   "metadata": {},
   "source": [
    "## Testing the tokenizer"
   ]
  },
  {
   "cell_type": "code",
   "execution_count": 18,
   "metadata": {},
   "outputs": [
    {
     "name": "stdout",
     "output_type": "stream",
     "text": [
      "Encoded String: ['ĠThe', 'Ġquick', 'Ġbrown', 'Ġfox', 'Ġj', 'umps', 'Ġover', 'Ġthe', 'Ġlazy', 'Ġdog', '.']\n",
      "Encoded IDs: [279, 1752, 3702, 5473, 349, 7450, 543, 187, 11684, 1996, 16]\n",
      "Decoded String:  The quick brown fox jumps over the lazy dog.\n"
     ]
    }
   ],
   "source": [
    "\n",
    "tokenizer = Tokenizer.from_file(str(tokenizer_path))\n",
    "\n",
    "\n",
    "# text = 'Shiro Okada (岡田志郎, \"Okada Shirō\", June 9, 1949; Hirakata, Osaka {age 71} - ) is a Japanese guitarist who participate in the Group Sound band, the Ox. His nickname was Shiro (シロー) and his real name is Shiro Okamoto (岡田史郎).'\n",
    "text = \"The quick brown fox jumps over the lazy dog.\"\n",
    "\n",
    "encoded = tokenizer.encode(text)\n",
    "print(f\"Encoded String: {encoded.tokens}\")\n",
    "\n",
    "print(f\"Encoded IDs: {encoded.ids}\")\n",
    "\n",
    "decoded = tokenizer.decode(encoded.ids)\n",
    "print(f\"Decoded String: {decoded}\")\n"
   ]
  },
  {
   "cell_type": "code",
   "execution_count": null,
   "metadata": {},
   "outputs": [],
   "source": []
  }
 ],
 "metadata": {
  "kernelspec": {
   "display_name": "Python 3.12.5 ('myenv': venv)",
   "language": "python",
   "name": "python3"
  },
  "language_info": {
   "codemirror_mode": {
    "name": "ipython",
    "version": 3
   },
   "file_extension": ".py",
   "mimetype": "text/x-python",
   "name": "python",
   "nbconvert_exporter": "python",
   "pygments_lexer": "ipython3",
   "version": "3.12.5"
  },
  "orig_nbformat": 4,
  "vscode": {
   "interpreter": {
    "hash": "654d27a30094e1a8bddb7fb21e6371be3a7a9a80349c123253b2470f7a3d851e"
   }
  }
 },
 "nbformat": 4,
 "nbformat_minor": 2
}
