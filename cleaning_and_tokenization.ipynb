{
 "cells": [
  {
   "cell_type": "markdown",
   "metadata": {},
   "source": [
    "# Basic data cleaning and tokenization"
   ]
  },
  {
   "cell_type": "markdown",
   "metadata": {},
   "source": [
    "## Cleaning\n",
    "\n",
    "Some simple, regex-based cleaning is performed on train and dev datasets, e.g. to remove HTML tags from Wikipedia articles, non-verbal cues from subtitles, or even to correct I’s that were incorrectly recognized as l’s in OCR’ed uppercase text."
   ]
  },
  {
   "cell_type": "code",
   "execution_count": 1,
   "metadata": {},
   "outputs": [],
   "source": [
    "from pathlib import Path\n",
    "from mrclean import *\n",
    "from mrclean import cleanup_tinystories"
   ]
  },
  {
   "cell_type": "code",
   "execution_count": 2,
   "metadata": {},
   "outputs": [],
   "source": [
    "DATA_ROOT = Path(\"./\")\n",
    "SEQ_LENGTH = 128 # this is a legacy parameter, it does not affect cleaning\n",
    "DATA_SPLITS = ['babylm_10M', 'babylm_dev']\n",
    "\n",
    "CLEANUP_FUNCTIONS = {\n",
    "    # 'aochildes': cleanup_aochildes,\n",
    "    'childes': cleanup_childes,\n",
    "    'bnc_spoken': cleanup_bnc_spoken,\n",
    "    'cbt': cleanup_cbt,\n",
    "    'tinystories': cleanup_tinystories,\n",
    "    'children_stories': cleanup_qed,\n",
    "    'gutenberg': cleanup_gutenberg,\n",
    "    'open_subtitles': cleanup_open_subtitles,\n",
    "    # 'qed': cleanup_qed,\n",
    "    'simple_wiki': cleanup_simple_wikipedia,\n",
    "    'switchboard': cleanup_switchboard,\n",
    "    'wikipedia': cleanup_wikipedia,\n",
    "}\n"
   ]
  },
  {
   "cell_type": "code",
   "execution_count": 3,
   "metadata": {},
   "outputs": [
    {
     "name": "stdout",
     "output_type": "stream",
     "text": [
      "🧹 Cleaned 'open_subtitles.train' (size 10806305 -> 10804026) in babylm_10M\n",
      "🧹 Cleaned 'bnc_spoken.train' (size 4883879 -> 4851676) in babylm_10M\n",
      "🧹 Cleaned 'gutenberg.train' (size 13910986 -> 13910986) in babylm_10M\n",
      "🧹 Cleaned 'childes.train' (size 15482927 -> 10730733) in babylm_10M\n",
      "🧹 Cleaned 'simple_wiki.train' (size 8411630 -> 8387062) in babylm_10M\n",
      "🧹 Cleaned 'tinystories.train' (size 50673985 -> 49807604) in babylm_10M\n",
      "🧹 Cleaned 'switchboard.train' (size 719322 -> 719322) in babylm_10M\n",
      "🧹 Cleaned 'simple_wiki.dev' (size 8149513 -> 8128239) in babylm_dev\n",
      "🧹 Cleaned 'childes.dev' (size 14638378 -> 10348627) in babylm_dev\n",
      "🧹 Cleaned 'switchboard.dev' (size 724013 -> 724013) in babylm_dev\n",
      "🧹 Cleaned 'open_subtitles.dev' (size 11016133 -> 11014854) in babylm_dev\n",
      "🧹 Cleaned 'gutenberg.dev' (size 15490473 -> 15490473) in babylm_dev\n",
      "🧹 Cleaned 'bnc_spoken.dev' (size 6538139 -> 6503778) in babylm_dev\n"
     ]
    }
   ],
   "source": [
    "for split in DATA_SPLITS:\n",
    "    INPUT_DIR = DATA_ROOT / 'data_v2' / split\n",
    "    OUTPUT_DIR = DATA_ROOT / 'data_v2' / f'{split}_clean'\n",
    "    \n",
    "    OUTPUT_DIR.mkdir(exist_ok=True)\n",
    "\n",
    "    train_files = [f for f in INPUT_DIR.iterdir() if f.is_file() and f.suffix in ['.train', '.dev']]\n",
    "    \n",
    "    for file in train_files:\n",
    "        if file.name == \"aochildes.train\":\n",
    "            print(\"skip AOCHILDES\")\n",
    "            continue\n",
    "        text = file.read_text()\n",
    "        cleaned_text = CLEANUP_FUNCTIONS[file.stem](text, SEQ_LENGTH)\n",
    "        (OUTPUT_DIR / file.name).write_text(cleaned_text)\n",
    "        print(f\"🧹 Cleaned '{file.name}' (size {len(text)} -> {len(cleaned_text)}) in {split}\")\n"
   ]
  },
  {
   "cell_type": "markdown",
   "metadata": {},
   "source": [
    "## Training a tokenizer"
   ]
  },
  {
   "cell_type": "code",
   "execution_count": 4,
   "metadata": {},
   "outputs": [],
   "source": [
    "from pathlib import Path\n",
    "from tokenizers import (Tokenizer, decoders, models, pre_tokenizers,\n",
    "                        processors, trainers)\n",
    "from tokenizers.normalizers import NFKC"
   ]
  },
  {
   "cell_type": "code",
   "execution_count": 5,
   "metadata": {},
   "outputs": [
    {
     "name": "stdout",
     "output_type": "stream",
     "text": [
      "1\n"
     ]
    }
   ],
   "source": [
    "# We train the tokenizer on the train data only\n",
    "data_dir = Path(\"./data_hm/babylm_10M_clean/tiny_stories_10M_clean\")\n",
    "\n",
    "paths = [str(f) for f in data_dir.glob(\"*\") if f.is_file() and not f.name.endswith(\".DS_Store\") and f.suffix in [\".train\"]]\n",
    "\n",
    "# paths\n",
    "print(len(paths))\n",
    "assert len(paths) > 0, 'No data files found'"
   ]
  },
  {
   "cell_type": "code",
   "execution_count": 6,
   "metadata": {},
   "outputs": [],
   "source": [
    "tokenizer = Tokenizer(models.BPE())\n",
    "\n",
    "tokenizer.pre_tokenizer = pre_tokenizers.ByteLevel(add_prefix_space=True)\n",
    "tokenizer.decoder = decoders.ByteLevel()\n",
    "tokenizer.post_processor = processors.ByteLevel(trim_offsets=True)\n",
    "tokenizer.normalizer = NFKC()"
   ]
  },
  {
   "cell_type": "code",
   "execution_count": 7,
   "metadata": {},
   "outputs": [
    {
     "name": "stdout",
     "output_type": "stream",
     "text": [
      "\n",
      "\n",
      "\n"
     ]
    }
   ],
   "source": [
    "trainer = trainers.BpeTrainer(vocab_size=16000, min_frequency=2, special_tokens=[\"<pad>\", \"<s>\", \"</s>\"])\n",
    "tokenizer.train(paths, trainer)"
   ]
  },
  {
   "cell_type": "code",
   "execution_count": 112,
   "metadata": {},
   "outputs": [],
   "source": [
    "tokenizer_path =  DATA_ROOT / \"data_hm/gpt-clean-16000-tiny-stories-attempt3.json\"\n",
    "tokenizer.save(str(tokenizer_path), pretty=True)"
   ]
  },
  {
   "cell_type": "markdown",
   "metadata": {},
   "source": [
    "## Testing the tokenizer"
   ]
  },
  {
   "cell_type": "code",
   "execution_count": 54,
   "metadata": {},
   "outputs": [
    {
     "name": "stdout",
     "output_type": "stream",
     "text": [
      "Encoded String: ['ĠThe', 'Ġquick', 'Ġbrown', 'Ġfox', 'Ġj', 'umps', 'Ġover', 'Ġthe', 'Ġlazy', 'Ġdog', '.']\n",
      "Encoded IDs: [279, 1752, 3702, 5473, 349, 7450, 543, 187, 11684, 1996, 16]\n",
      "Decoded String:  The quick brown fox jumps over the lazy dog.\n"
     ]
    }
   ],
   "source": [
    "\n",
    "tokenizer = Tokenizer.from_file(str(tokenizer_path))\n",
    "\n",
    "\n",
    "# text = 'Shiro Okada (岡田志郎, \"Okada Shirō\", June 9, 1949; Hirakata, Osaka {age 71} - ) is a Japanese guitarist who participate in the Group Sound band, the Ox. His nickname was Shiro (シロー) and his real name is Shiro Okamoto (岡田史郎).'\n",
    "text = \"The quick brown fox jumps over the lazy dog.\"\n",
    "\n",
    "encoded = tokenizer.encode(text)\n",
    "print(f\"Encoded String: {encoded.tokens}\")\n",
    "\n",
    "print(f\"Encoded IDs: {encoded.ids}\")\n",
    "\n",
    "decoded = tokenizer.decode(encoded.ids)\n",
    "print(f\"Decoded String: {decoded}\")\n"
   ]
  },
  {
   "cell_type": "code",
   "execution_count": 38,
   "metadata": {},
   "outputs": [
    {
     "name": "stdout",
     "output_type": "stream",
     "text": [
      "581299\n"
     ]
    }
   ],
   "source": [
    "file_path = 'data/babylm_10M_clean/aochildes.train'\n",
    "\n",
    "with open(file_path, 'r') as file:\n",
    "    text = file.read()\n",
    "\n",
    "cleaned_text = cleanup_aochildes(text, SEQ_LENGTH)\n",
    "\n",
    "encoded = tokenizer.encode(cleaned_text)\n",
    "\n",
    "num_tokens = len(encoded.tokens)\n",
    "\n",
    "print(num_tokens)"
   ]
  },
  {
   "cell_type": "code",
   "execution_count": 36,
   "metadata": {},
   "outputs": [
    {
     "name": "stdout",
     "output_type": "stream",
     "text": [
      "3896529\n"
     ]
    }
   ],
   "source": [
    "import re\n",
    "\n",
    "def cleanup_childes(text, seq_length):\n",
    "    text = re.sub(r'\\*\\w+:\\s*', '', text)\n",
    "    text = re.sub(r'\\[.*?\\]', '', text)\n",
    "    text = re.sub(r'\\]\\[.*?\\]', '', text)\n",
    "    text = cleanup_extra_spaces(text)\n",
    "    pad_seq = ''.join([END_TOKEN] + seq_length * [PADDING_TOKEN])\n",
    "    text = START_TOKEN + text.strip() + pad_seq\n",
    "    return text\n",
    "\n",
    "file_path = 'data/babylm_10M_clean/childes.train'\n",
    "\n",
    "with open(file_path, 'r') as file:\n",
    "    text = file.read()\n",
    "\n",
    "cleaned_text = cleanup_childes(text, SEQ_LENGTH)\n",
    "\n",
    "encoded = tokenizer.encode(cleaned_text)\n",
    "\n",
    "num_tokens = len(encoded.tokens)\n",
    "\n",
    "print(num_tokens)"
   ]
  },
  {
   "cell_type": "code",
   "execution_count": 41,
   "metadata": {},
   "outputs": [
    {
     "name": "stdout",
     "output_type": "stream",
     "text": [
      "Processing open_subtitles.train...\n",
      "open_subtitles.train: 3387309 tokens\n",
      "Processing bnc_spoken.train...\n",
      "bnc_spoken.train: 1277255 tokens\n",
      "Processing gutenberg.train...\n",
      "gutenberg.train: 3465292 tokens\n",
      "Processing aochildes.train...\n",
      "aochildes.train: 581299 tokens\n",
      "Processing simple_wiki.train...\n",
      "simple_wiki.train: 2181787 tokens\n",
      "Processing switchboard.train...\n",
      "switchboard.train: 249441 tokens\n",
      "11142383\n"
     ]
    }
   ],
   "source": [
    "DATA_ROOT = Path(\"data/babylm_10M_clean\")\n",
    "\n",
    "total_tokens = 0\n",
    "\n",
    "for train_file in DATA_ROOT.glob(\"*.train\"):\n",
    "    if train_file.name == \"childes.train\":\n",
    "        continue\n",
    "    \n",
    "    print(f\"Processing {train_file.name}...\")\n",
    "    text = train_file.read_text()\n",
    "    dataset_name = train_file.stem\n",
    "    if dataset_name in CLEANUP_FUNCTIONS:\n",
    "        cleaned_text = CLEANUP_FUNCTIONS[dataset_name](text, SEQ_LENGTH)\n",
    "    else:\n",
    "        cleaned_text = text\n",
    "    encoded = tokenizer.encode(text)\n",
    "    token_count = len(encoded.tokens)\n",
    "    total_tokens += token_count\n",
    "    \n",
    "    print(f\"{train_file.name}: {token_count} tokens\")\n",
    "\n",
    "print(total_tokens)"
   ]
  },
  {
   "cell_type": "code",
   "execution_count": 70,
   "metadata": {},
   "outputs": [
    {
     "name": "stdout",
     "output_type": "stream",
     "text": [
      "📊 Counted 2150257 words in 'open_subtitles.train' from babylm_10M\n",
      "📊 Counted 971613 words in 'bnc_spoken.train' from babylm_10M\n",
      "📊 Counted 2716885 words in 'gutenberg.train' from babylm_10M\n",
      "📊 Counted 2994607 words in 'childes.train' from babylm_10M\n",
      "📊 Counted 1418689 words in 'simple_wiki.train' from babylm_10M\n",
      "📊 Counted 152603 words in 'switchboard.train' from babylm_10M\n",
      "\n",
      "Word count per dataset:\n",
      "open_subtitles: 2150257 words (20.67%)\n",
      "bnc_spoken: 971613 words (9.34%)\n",
      "gutenberg: 2716885 words (26.11%)\n",
      "childes: 2994607 words (28.78%)\n",
      "simple_wiki: 1418689 words (13.64%)\n",
      "switchboard: 152603 words (1.47%)\n",
      "\n",
      "Total word count across all datasets: 10404654\n"
     ]
    }
   ],
   "source": [
    "import pathlib\n",
    "from collections import Counter\n",
    "import nltk\n",
    "from nltk.tokenize import word_tokenize\n",
    "from nltk.corpus import stopwords\n",
    "import string\n",
    "\n",
    "DATA_ROOT = Path(\"./\")\n",
    "DATA_SPLITS = ['babylm_10M']\n",
    "\n",
    "def count_words(text, remove_punctuation=True, remove_stopwords=False, lowercase=True):\n",
    "    if lowercase:\n",
    "        text = text.lower()\n",
    "    tokens = word_tokenize(text)\n",
    "    \n",
    "    if remove_punctuation:\n",
    "        tokens = [token for token in tokens if token not in string.punctuation]\n",
    "    \n",
    "    if remove_stopwords:\n",
    "        stop_words = set(stopwords.words('english'))\n",
    "        tokens = [token for token in tokens if token not in stop_words]\n",
    "    \n",
    "    return len(tokens)\n",
    "\n",
    "total_word_count = 0\n",
    "dataset_word_counts = Counter()\n",
    "\n",
    "for split in DATA_SPLITS:\n",
    "    INPUT_DIR = DATA_ROOT / 'data_v2' / split\n",
    "    \n",
    "    train_files = [f for f in INPUT_DIR.iterdir() if f.is_file() and f.suffix in ['.train', '.dev']]\n",
    "    \n",
    "    for file in train_files:\n",
    "        text = file.read_text()\n",
    "        word_count = count_words(text)\n",
    "        total_word_count += word_count\n",
    "        dataset_word_counts[file.stem] += word_count\n",
    "        print(f\"📊 Counted {word_count} words in '{file.name}' from {split}\")\n",
    "\n",
    "print(\"\\nWord count per dataset:\")\n",
    "for dataset, count in dataset_word_counts.items():\n",
    "    percentage = (count / total_word_count) * 100\n",
    "    print(f\"{dataset}: {count} words ({percentage:.2f}%)\")\n",
    "\n",
    "print(f\"\\nTotal word count across all datasets: {total_word_count}\")"
   ]
  },
  {
   "cell_type": "code",
   "execution_count": 72,
   "metadata": {},
   "outputs": [],
   "source": [
    "DATA_ROOT = Path(\"./\")\n",
    "SEQ_LENGTH = 128 # this is a legacy parameter, it does not affect cleaning\n",
    "DATA_SPLITS = ['babylm_10M']\n",
    "\n",
    "CLEANUP_FUNCTIONS = {\n",
    "    # 'aochildes': cleanup_aochildes,\n",
    "    'childes_10M': cleanup_childes,\n",
    "    'childes_10M_last': cleanup_childes,\n",
    "    'gutenberg_10M': cleanup_gutenberg,\n",
    "    'simple_wiki_10M': cleanup_simple_wikipedia\n",
    "}\n"
   ]
  },
  {
   "cell_type": "code",
   "execution_count": 73,
   "metadata": {},
   "outputs": [
    {
     "name": "stdout",
     "output_type": "stream",
     "text": [
      "🧹 Cleaned 'simple_wiki_10M.train' (size 57849323 -> 57674157) in babylm_10M\n",
      "🧹 Cleaned 'childes_10M_last.train' (size 53726989 -> 39457609) in babylm_10M\n",
      "🧹 Cleaned 'childes_10M.train' (size 53944457 -> 37164144) in babylm_10M\n",
      "🧹 Cleaned 'gutenberg_10M.train' (size 54808759 -> 54808759) in babylm_10M\n"
     ]
    }
   ],
   "source": [
    "for split in DATA_SPLITS:\n",
    "    INPUT_DIR = DATA_ROOT / 'data_hm' / split\n",
    "    OUTPUT_DIR = DATA_ROOT / 'data_hm' / f'{split}_clean'\n",
    "    \n",
    "    OUTPUT_DIR.mkdir(exist_ok=True)\n",
    "\n",
    "    train_files = [f for f in INPUT_DIR.iterdir() if f.is_file() and f.suffix in ['.train', '.dev']]\n",
    "    \n",
    "    for file in train_files:\n",
    "        if file.name == \"aochildes.train\":\n",
    "            print(\"skip AOCHILDES\")\n",
    "            continue\n",
    "        text = file.read_text()\n",
    "        cleaned_text = CLEANUP_FUNCTIONS[file.stem](text, SEQ_LENGTH)\n",
    "        (OUTPUT_DIR / file.name).write_text(cleaned_text)\n",
    "        print(f\"🧹 Cleaned '{file.name}' (size {len(text)} -> {len(cleaned_text)}) in {split}\")\n"
   ]
  },
  {
   "cell_type": "code",
   "execution_count": 7,
   "metadata": {},
   "outputs": [
    {
     "name": "stderr",
     "output_type": "stream",
     "text": [
      "[nltk_data] Downloading package punkt to\n",
      "[nltk_data]     /Users/nathanpaek/nltk_data...\n",
      "[nltk_data]   Package punkt is already up-to-date!\n"
     ]
    }
   ],
   "source": [
    "import readability\n",
    "import nltk\n",
    "\n",
    "nltk.download('punkt')\n",
    "\n",
    "def analyze_readability(file_path):\n",
    "    with open(file_path, \"r\", encoding=\"utf-8\") as file:\n",
    "        text = file.read()\n",
    "\n",
    "    sentences = nltk.sent_tokenize(text)\n",
    "    tokenized_text = \"\\n\".join([\" \".join(nltk.word_tokenize(sentence)) for sentence in sentences])\n",
    "\n",
    "    results = readability.getmeasures(tokenized_text, lang='en')\n",
    "\n",
    "    readability_scores = {\n",
    "        \"Flesch Reading Ease\": results['readability grades']['FleschReadingEase'],\n",
    "        \"Gunning Fog Index\": results['readability grades']['GunningFogIndex'],\n",
    "        \"ARI\": results['readability grades']['ARI']\n",
    "    }\n",
    "\n",
    "    return readability_scores"
   ]
  },
  {
   "cell_type": "code",
   "execution_count": 8,
   "metadata": {},
   "outputs": [
    {
     "name": "stdout",
     "output_type": "stream",
     "text": [
      "{'Flesch Reading Ease': 115.7017835360794, 'Gunning Fog Index': 2.8426439083926325, 'ARI': -2.1995914383563218}\n"
     ]
    }
   ],
   "source": [
    "scores = analyze_readability('data_hm/babylm_10M_clean/childes_10M_clean/childes_10M.train')\n",
    "print(scores)"
   ]
  },
  {
   "cell_type": "code",
   "execution_count": 9,
   "metadata": {},
   "outputs": [
    {
     "name": "stdout",
     "output_type": "stream",
     "text": [
      "{'Flesch Reading Ease': 87.49324180574916, 'Gunning Fog Index': 9.89000879078063, 'ARI': 7.122197415060434}\n"
     ]
    }
   ],
   "source": [
    "scores = analyze_readability('data_hm/babylm_10M_clean/gutenberg_10M_clean/gutenberg_10M.train')\n",
    "print(scores)"
   ]
  },
  {
   "cell_type": "code",
   "execution_count": 10,
   "metadata": {},
   "outputs": [
    {
     "name": "stdout",
     "output_type": "stream",
     "text": [
      "{'Flesch Reading Ease': 68.13464284909669, 'Gunning Fog Index': 10.310200051239534, 'ARI': 9.457072550485279}\n"
     ]
    }
   ],
   "source": [
    "scores = analyze_readability('data_hm/babylm_10M_clean/simple_wiki_10M_clean/simple_wiki_10M.train')\n",
    "print(scores)"
   ]
  },
  {
   "cell_type": "code",
   "execution_count": 12,
   "metadata": {},
   "outputs": [
    {
     "name": "stdout",
     "output_type": "stream",
     "text": [
      "{'Flesch Reading Ease': 105.19229007159716, 'Gunning Fog Index': 4.826088797503238, 'ARI': 0.8503273834313667}\n"
     ]
    }
   ],
   "source": [
    "scores = analyze_readability('data_hm/babylm_10M_clean/tiny_stories_10M_clean/tinystories.train')\n",
    "print(scores)"
   ]
  },
  {
   "cell_type": "code",
   "execution_count": 13,
   "metadata": {},
   "outputs": [
    {
     "name": "stdout",
     "output_type": "stream",
     "text": [
      "{'Flesch Reading Ease': 105.89468505278845, 'Gunning Fog Index': 5.621648960021815, 'ARI': 1.5911814143108174}\n"
     ]
    }
   ],
   "source": [
    "def analyze_readability_folder(folder_path):\n",
    "    all_text = \"\"\n",
    "    \n",
    "    for filename in os.listdir(folder_path):\n",
    "        if filename.endswith(\".train\"):\n",
    "            file_path = os.path.join(folder_path, filename)\n",
    "            with open(file_path, \"r\", encoding=\"utf-8\") as file:\n",
    "                all_text += file.read() + \"\\n\"  \n",
    "    \n",
    "    sentences = nltk.sent_tokenize(all_text)\n",
    "    tokenized_text = \"\\n\".join([\" \".join(nltk.word_tokenize(sentence)) for sentence in sentences])\n",
    "\n",
    "    results = readability.getmeasures(tokenized_text, lang='en')\n",
    "\n",
    "    readability_scores = {\n",
    "        \"Flesch Reading Ease\": results['readability grades']['FleschReadingEase'],\n",
    "        \"Gunning Fog Index\": results['readability grades']['GunningFogIndex'],\n",
    "        \"ARI\": results['readability grades']['ARI']\n",
    "    }\n",
    "\n",
    "    return readability_scores\n",
    "\n",
    "folder_path = \"data_v2/babylm_10M\"\n",
    "scores = analyze_readability_folder(folder_path)\n",
    "print(scores)"
   ]
  }
 ],
 "metadata": {
  "kernelspec": {
   "display_name": "Python 3.12.5 ('myenv': venv)",
   "language": "python",
   "name": "python3"
  },
  "language_info": {
   "codemirror_mode": {
    "name": "ipython",
    "version": 3
   },
   "file_extension": ".py",
   "mimetype": "text/x-python",
   "name": "python",
   "nbconvert_exporter": "python",
   "pygments_lexer": "ipython3",
   "version": "3.12.5"
  },
  "orig_nbformat": 4,
  "vscode": {
   "interpreter": {
    "hash": "654d27a30094e1a8bddb7fb21e6371be3a7a9a80349c123253b2470f7a3d851e"
   }
  }
 },
 "nbformat": 4,
 "nbformat_minor": 2
}
